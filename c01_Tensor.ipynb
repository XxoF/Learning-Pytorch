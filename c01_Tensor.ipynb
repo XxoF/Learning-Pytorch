{
 "cells": [
  {
   "cell_type": "code",
   "execution_count": 1,
   "id": "294e79ef-8812-40f0-b77b-e0cd0d55bc90",
   "metadata": {},
   "outputs": [
    {
     "name": "stdout",
     "output_type": "stream",
     "text": [
      "1.11.0+cpu\n"
     ]
    }
   ],
   "source": [
    "import torch\n",
    "\n",
    "print(torch.__version__)"
   ]
  },
  {
   "cell_type": "code",
   "execution_count": 10,
   "id": "7a3cb736-55e7-4ca7-94f7-9657eda28d1e",
   "metadata": {},
   "outputs": [
    {
     "name": "stdout",
     "output_type": "stream",
     "text": [
      "tensor([0.])\n",
      "tensor([9.1477e-41])\n"
     ]
    }
   ],
   "source": [
    "x = torch.empty(1)\n",
    "y = torch.empty(1)\n",
    "\n",
    "print(x)\n",
    "print(y)"
   ]
  },
  {
   "cell_type": "code",
   "execution_count": 11,
   "id": "18f9e7c2-f671-415f-88c6-01c1b39bd7bd",
   "metadata": {},
   "outputs": [
    {
     "name": "stdout",
     "output_type": "stream",
     "text": [
      "tensor([9.1477e-41, 0.0000e+00, 5.6052e-45])\n"
     ]
    }
   ],
   "source": [
    "x = torch.empty(3)\n",
    "\n",
    "print(x)"
   ]
  },
  {
   "cell_type": "code",
   "execution_count": 12,
   "id": "aba8e86a-d52b-4ede-9db2-0c1388809fcf",
   "metadata": {},
   "outputs": [
    {
     "name": "stdout",
     "output_type": "stream",
     "text": [
      "tensor([[0., 0., 0., 0., 0.],\n",
      "        [0., 0., 0., 0., 0.]])\n"
     ]
    }
   ],
   "source": [
    "x = torch.empty(2,5)\n",
    "\n",
    "print(x)"
   ]
  },
  {
   "cell_type": "code",
   "execution_count": 13,
   "id": "96ef3684-1995-471d-9275-f91cae8f33c3",
   "metadata": {},
   "outputs": [
    {
     "name": "stdout",
     "output_type": "stream",
     "text": [
      "tensor([[[0., 0., 0.],\n",
      "         [0., 0., 0.]],\n",
      "\n",
      "        [[0., 0., 0.],\n",
      "         [0., 0., 0.]]])\n"
     ]
    }
   ],
   "source": [
    "x = torch.empty(2, 2, 3)\n",
    "\n",
    "print(x)"
   ]
  },
  {
   "cell_type": "code",
   "execution_count": 14,
   "id": "cf28e22c-0bfb-4928-bbf3-1814d04f8055",
   "metadata": {},
   "outputs": [
    {
     "name": "stdout",
     "output_type": "stream",
     "text": [
      "tensor([0.7608])\n"
     ]
    }
   ],
   "source": [
    "x = torch.rand(1)\n",
    "print(x)"
   ]
  },
  {
   "cell_type": "code",
   "execution_count": 15,
   "id": "84c38779-a155-41b9-b85e-063d9a7aa5c6",
   "metadata": {},
   "outputs": [
    {
     "name": "stdout",
     "output_type": "stream",
     "text": [
      "tensor([[0.5363, 0.9550, 0.6757],\n",
      "        [0.2833, 0.1722, 0.6921]])\n"
     ]
    }
   ],
   "source": [
    "print(torch.rand(2,3))"
   ]
  },
  {
   "cell_type": "code",
   "execution_count": 20,
   "id": "a663c4a2-6677-4b87-85d9-5f95a2be40db",
   "metadata": {},
   "outputs": [
    {
     "name": "stdout",
     "output_type": "stream",
     "text": [
      "tensor([[0.7175, 0.2815, 0.6698],\n",
      "        [0.3889, 0.6029, 0.2042]], dtype=torch.float64)\n"
     ]
    }
   ],
   "source": [
    "print(torch.rand(2,3, dtype=torch.float64))"
   ]
  },
  {
   "cell_type": "code",
   "execution_count": 23,
   "id": "89085800-2789-4d61-9a81-5b9d55eebfac",
   "metadata": {},
   "outputs": [
    {
     "name": "stdout",
     "output_type": "stream",
     "text": [
      "tensor([[1, 1, 1],\n",
      "        [1, 1, 1]], dtype=torch.int32)\n"
     ]
    }
   ],
   "source": [
    "print(torch.ones(2,3, dtype=torch.int))"
   ]
  },
  {
   "cell_type": "code",
   "execution_count": 24,
   "id": "4f055ea8-c6e3-4e49-a098-8574f3a6af67",
   "metadata": {},
   "outputs": [
    {
     "name": "stdout",
     "output_type": "stream",
     "text": [
      "tensor([[1., 1., 1.],\n",
      "        [1., 1., 1.]], dtype=torch.float64)\n"
     ]
    }
   ],
   "source": [
    "print(torch.ones(2,3, dtype=torch.float64))"
   ]
  },
  {
   "cell_type": "code",
   "execution_count": 25,
   "id": "5b3dfb56-a0ed-44f7-9a9c-66c33923a7f5",
   "metadata": {},
   "outputs": [
    {
     "name": "stdout",
     "output_type": "stream",
     "text": [
      "tensor([1.0000, 0.5000])\n",
      "torch.Size([2])\n"
     ]
    }
   ],
   "source": [
    "x = torch.tensor([1, 0.5])\n",
    "print(x)\n",
    "print(x.shape)"
   ]
  },
  {
   "cell_type": "code",
   "execution_count": 26,
   "id": "5a84d8c0-cb2c-4dde-ac45-625fe2efbdf9",
   "metadata": {},
   "outputs": [
    {
     "name": "stdout",
     "output_type": "stream",
     "text": [
      "tensor([[1.6939, 1.1599],\n",
      "        [1.4602, 0.8375]])\n"
     ]
    }
   ],
   "source": [
    "x = torch.rand(2,2)\n",
    "y = torch.rand(2,2)\n",
    "\n",
    "print(x+y)"
   ]
  },
  {
   "cell_type": "code",
   "execution_count": 28,
   "id": "6a1eec5a-f6ac-4244-bf5f-2f6f789b51f9",
   "metadata": {},
   "outputs": [
    {
     "name": "stdout",
     "output_type": "stream",
     "text": [
      "tensor([[0.8713, 0.5807],\n",
      "        [0.4150, 0.8539]])\n",
      "tensor([[0.7645, 0.2439],\n",
      "        [0.2516, 0.9650]])\n",
      "tensor([[1.6358, 0.8246],\n",
      "        [0.6666, 1.8189]])\n",
      "tensor([[1.6358, 0.8246],\n",
      "        [0.6666, 1.8189]])\n",
      "tensor([[1.6358, 0.8246],\n",
      "        [0.6666, 1.8189]])\n"
     ]
    }
   ],
   "source": [
    "x = torch.rand(2,2)\n",
    "y = torch.rand(2,2)\n",
    "\n",
    "print(x)\n",
    "print(y)\n",
    "\n",
    "print(x+y)\n",
    "\n",
    "print(y.add_(x))\n",
    "print(y)"
   ]
  },
  {
   "cell_type": "code",
   "execution_count": 34,
   "id": "72792423-dd73-490b-9056-1e5a61c00c27",
   "metadata": {},
   "outputs": [
    {
     "name": "stdout",
     "output_type": "stream",
     "text": [
      "tensor([[0.1923, 0.1162],\n",
      "        [0.8203, 0.8562]])\n",
      "tensor([[0.9125, 0.1719],\n",
      "        [0.7351, 0.0641]])\n",
      "tensor([[1.1049, 0.2881],\n",
      "        [1.5554, 0.9202]])\n",
      "tensor([[1.1049, 0.2881],\n",
      "        [1.5554, 0.9202]])\n"
     ]
    }
   ],
   "source": [
    "x = torch.rand(2,2)\n",
    "y = torch.rand(2,2)\n",
    "\n",
    "print(x)\n",
    "print(y)\n",
    "\n",
    "print(y+x)\n",
    "\n",
    "y+=x\n",
    "print(y)"
   ]
  },
  {
   "cell_type": "code",
   "execution_count": 35,
   "id": "72690475-4374-40be-bd8e-935dc0cb3609",
   "metadata": {},
   "outputs": [
    {
     "name": "stdout",
     "output_type": "stream",
     "text": [
      "tensor([[ 0.0023,  0.1327],\n",
      "        [-0.4308,  0.8073]])\n",
      "tensor([[ 0.0023,  0.1327],\n",
      "        [-0.4308,  0.8073]])\n"
     ]
    }
   ],
   "source": [
    "x = torch.rand(2,2)\n",
    "y = torch.rand(2,2)\n",
    "\n",
    "print(x - y)\n",
    "print(torch.sub(x,y))"
   ]
  },
  {
   "cell_type": "code",
   "execution_count": 36,
   "id": "a9989696-7ed7-478a-b95e-9a75fbad42aa",
   "metadata": {},
   "outputs": [
    {
     "name": "stdout",
     "output_type": "stream",
     "text": [
      "tensor([[0.6657, 0.1271],\n",
      "        [0.4094, 0.6817]])\n",
      "tensor([[0.6657, 0.1271],\n",
      "        [0.4094, 0.6817]])\n"
     ]
    }
   ],
   "source": [
    "x = torch.rand(2,2)\n",
    "y = torch.rand(2,2)\n",
    "\n",
    "print(x * y)\n",
    "print(torch.mul(x,y))"
   ]
  },
  {
   "cell_type": "code",
   "execution_count": 37,
   "id": "3783a302-5330-4fc8-92f7-11d581e783be",
   "metadata": {},
   "outputs": [
    {
     "name": "stdout",
     "output_type": "stream",
     "text": [
      "tensor([[ 1.8680,  0.5868],\n",
      "        [13.6759, 12.9181]])\n",
      "tensor([[ 1.8680,  0.5868],\n",
      "        [13.6759, 12.9181]])\n"
     ]
    }
   ],
   "source": [
    "x = torch.rand(2,2)\n",
    "y = torch.rand(2,2)\n",
    "\n",
    "print(x / y)\n",
    "print(torch.div(x,y))"
   ]
  },
  {
   "cell_type": "code",
   "execution_count": 44,
   "id": "7c701925-feca-458b-b1b1-4de2d13c0892",
   "metadata": {},
   "outputs": [
    {
     "name": "stdout",
     "output_type": "stream",
     "text": [
      "tensor([[0.8854, 0.3685, 0.5990, 0.0638, 0.9251, 0.0703, 0.2928, 0.9550, 0.9195,\n",
      "         0.4407],\n",
      "        [0.5401, 0.7549, 0.2166, 0.3995, 0.8255, 0.9197, 0.3671, 0.3497, 0.9908,\n",
      "         0.6937],\n",
      "        [0.0627, 0.0981, 0.2359, 0.5235, 0.4410, 0.1012, 0.0125, 0.7444, 0.8132,\n",
      "         0.7597],\n",
      "        [0.4919, 0.4358, 0.2311, 0.5395, 0.6858, 0.1351, 0.0725, 0.7313, 0.8071,\n",
      "         0.9265],\n",
      "        [0.0694, 0.9983, 0.5822, 0.1319, 0.5688, 0.8290, 0.3571, 0.6691, 0.4584,\n",
      "         0.6429]])\n",
      "tensor([0.8854, 0.5401, 0.0627, 0.4919, 0.0694])\n",
      "tensor(0.5401)\n",
      "0.5400557518005371\n"
     ]
    }
   ],
   "source": [
    "x = torch.rand(5,10)\n",
    "\n",
    "print(x)\n",
    "\n",
    "print(x[:, 0])\n",
    "\n",
    "print(x[1, 0])\n",
    "\n",
    "print(x[1, 0].item())"
   ]
  },
  {
   "cell_type": "code",
   "execution_count": 45,
   "id": "7a604d1b-506e-49ec-858d-bee6a7369444",
   "metadata": {},
   "outputs": [
    {
     "ename": "ValueError",
     "evalue": "only one element tensors can be converted to Python scalars",
     "output_type": "error",
     "traceback": [
      "\u001b[1;31m---------------------------------------------------------------------------\u001b[0m",
      "\u001b[1;31mValueError\u001b[0m                                Traceback (most recent call last)",
      "Input \u001b[1;32mIn [45]\u001b[0m, in \u001b[0;36m<module>\u001b[1;34m\u001b[0m\n\u001b[1;32m----> 1\u001b[0m \u001b[38;5;28mprint\u001b[39m(\u001b[43mx\u001b[49m\u001b[38;5;241;43m.\u001b[39;49m\u001b[43mitem\u001b[49m\u001b[43m(\u001b[49m\u001b[43m)\u001b[49m)\n",
      "\u001b[1;31mValueError\u001b[0m: only one element tensors can be converted to Python scalars"
     ]
    }
   ],
   "source": [
    "print(x.item())"
   ]
  },
  {
   "cell_type": "code",
   "execution_count": 50,
   "id": "61a4da53-c2c4-4d82-8722-c314851064df",
   "metadata": {},
   "outputs": [
    {
     "name": "stdout",
     "output_type": "stream",
     "text": [
      "tensor([[0.8043, 0.4259, 0.7375, 0.7200],\n",
      "        [0.2381, 0.7358, 0.7546, 0.6067],\n",
      "        [0.2854, 0.5277, 0.4633, 0.8174],\n",
      "        [0.7852, 0.5468, 0.3542, 0.4930]])\n",
      "tensor([0.8043, 0.4259, 0.7375, 0.7200, 0.2381, 0.7358, 0.7546, 0.6067, 0.2854,\n",
      "        0.5277, 0.4633, 0.8174, 0.7852, 0.5468, 0.3542, 0.4930])\n"
     ]
    }
   ],
   "source": [
    "x = torch.rand(4, 4)\n",
    "print(x)\n",
    "\n",
    "y = x.view(16)\n",
    "print(y)"
   ]
  },
  {
   "cell_type": "code",
   "execution_count": 53,
   "id": "05bc7266-4af3-40f6-b3fd-e040dcc1d59e",
   "metadata": {},
   "outputs": [
    {
     "name": "stdout",
     "output_type": "stream",
     "text": [
      "tensor([[0.8743, 0.3542, 0.0560, 0.1719],\n",
      "        [0.6600, 0.3342, 0.5785, 0.5582],\n",
      "        [0.6538, 0.3718, 0.4810, 0.5081],\n",
      "        [0.4321, 0.0909, 0.1119, 0.0465]])\n",
      "tensor([[0.8743, 0.3542, 0.0560, 0.1719, 0.6600, 0.3342, 0.5785, 0.5582],\n",
      "        [0.6538, 0.3718, 0.4810, 0.5081, 0.4321, 0.0909, 0.1119, 0.0465]])\n",
      "torch.Size([2, 8])\n",
      "torch.Size([2, 8])\n"
     ]
    }
   ],
   "source": [
    "x = torch.rand(4, 4)\n",
    "print(x)\n",
    "\n",
    "y = x.view(-1, 8)\n",
    "print(y)\n",
    "print(y.size())\n",
    "print(y.shape)"
   ]
  },
  {
   "cell_type": "code",
   "execution_count": 52,
   "id": "410ae84f-2a31-4c24-86b8-b8499d05e6e9",
   "metadata": {},
   "outputs": [
    {
     "name": "stdout",
     "output_type": "stream",
     "text": [
      "tensor([[0.7946, 0.3328, 0.6826, 0.6507],\n",
      "        [0.7243, 0.0192, 0.0576, 0.5428],\n",
      "        [0.9471, 0.8587, 0.6991, 0.6652],\n",
      "        [0.6117, 0.3952, 0.8485, 0.7493]])\n"
     ]
    },
    {
     "ename": "RuntimeError",
     "evalue": "shape '[-1, 5]' is invalid for input of size 16",
     "output_type": "error",
     "traceback": [
      "\u001b[1;31m---------------------------------------------------------------------------\u001b[0m",
      "\u001b[1;31mRuntimeError\u001b[0m                              Traceback (most recent call last)",
      "Input \u001b[1;32mIn [52]\u001b[0m, in \u001b[0;36m<module>\u001b[1;34m\u001b[0m\n\u001b[0;32m      1\u001b[0m x \u001b[38;5;241m=\u001b[39m torch\u001b[38;5;241m.\u001b[39mrand(\u001b[38;5;241m4\u001b[39m, \u001b[38;5;241m4\u001b[39m)\n\u001b[0;32m      2\u001b[0m \u001b[38;5;28mprint\u001b[39m(x)\n\u001b[1;32m----> 4\u001b[0m \u001b[38;5;28mprint\u001b[39m(\u001b[43mx\u001b[49m\u001b[38;5;241;43m.\u001b[39;49m\u001b[43mview\u001b[49m\u001b[43m(\u001b[49m\u001b[38;5;241;43m-\u001b[39;49m\u001b[38;5;241;43m1\u001b[39;49m\u001b[43m,\u001b[49m\u001b[43m \u001b[49m\u001b[38;5;241;43m5\u001b[39;49m\u001b[43m)\u001b[49m)\n",
      "\u001b[1;31mRuntimeError\u001b[0m: shape '[-1, 5]' is invalid for input of size 16"
     ]
    }
   ],
   "source": [
    "x = torch.rand(4, 4)\n",
    "print(x)\n",
    "\n",
    "print(x.view(-1, 5))"
   ]
  },
  {
   "cell_type": "code",
   "execution_count": 55,
   "id": "208b3e70-3ef1-475f-a266-d771b2919882",
   "metadata": {},
   "outputs": [
    {
     "name": "stdout",
     "output_type": "stream",
     "text": [
      "tensor([1., 1., 1., 1., 1.])\n",
      "[1. 1. 1. 1. 1.]\n",
      "<class 'numpy.ndarray'>\n"
     ]
    }
   ],
   "source": [
    "import numpy as np\n",
    "\n",
    "a = torch.ones(5)\n",
    "print(a)\n",
    "\n",
    "b = a.numpy()\n",
    "print(b)\n",
    "print(type(b))"
   ]
  },
  {
   "cell_type": "code",
   "execution_count": 56,
   "id": "93b84aad-8c71-47ae-ad54-4d2efb72de69",
   "metadata": {},
   "outputs": [
    {
     "name": "stdout",
     "output_type": "stream",
     "text": [
      "tensor([1., 1., 1., 1., 1.])\n",
      "tensor([2., 2., 2., 2., 2.])\n",
      "[2. 2. 2. 2. 2.]\n"
     ]
    }
   ],
   "source": [
    "a = torch.ones(5)\n",
    "b = a.numpy()\n",
    "\n",
    "print(a)\n",
    "\n",
    "a.add_(1)\n",
    "print(a)\n",
    "print(b)"
   ]
  },
  {
   "cell_type": "code",
   "execution_count": null,
   "id": "de6504d1-fcff-4f0b-8700-9842c8a6a5fe",
   "metadata": {},
   "outputs": [],
   "source": []
  }
 ],
 "metadata": {
  "kernelspec": {
   "display_name": "Python 3 (ipykernel)",
   "language": "python",
   "name": "python3"
  },
  "language_info": {
   "codemirror_mode": {
    "name": "ipython",
    "version": 3
   },
   "file_extension": ".py",
   "mimetype": "text/x-python",
   "name": "python",
   "nbconvert_exporter": "python",
   "pygments_lexer": "ipython3",
   "version": "3.10.2"
  }
 },
 "nbformat": 4,
 "nbformat_minor": 5
}
